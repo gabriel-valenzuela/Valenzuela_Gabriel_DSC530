{
 "cells": [
  {
   "cell_type": "code",
   "execution_count": 295,
   "metadata": {},
   "outputs": [
    {
     "name": "stdout",
     "output_type": "stream",
     "text": [
      "   Ano/Estados   AC    AM   AP    MA     MT    PA    RO   RR   TO  AMZ LEGAL\n",
      "0         2004  728  1232   46   755  11814  8870  3858  311  158      27772\n",
      "1         2005  592   775   33   922   7145  5899  3244  133  271      19014\n",
      "2         2006  398   788   30   674   4333  5659  2049  231  124      14286\n",
      "3         2007  184   610   39   631   2678  5526  1611  309   63      11651\n",
      "4         2008  254   604  100  1271   3258  5607  1136  574  107      12911\n",
      "   start year  end year phenomenon  severity\n",
      "0        2004      2005    El Nino      Weak\n",
      "1        2006      2007    El Nino      Weak\n",
      "2        2014      2015    El Nino      Weak\n",
      "3        2018      2019    El Nino      Weak\n",
      "4        2002      2003    El Nino  Moderate\n",
      "   year  month        state   latitude  longitude  firespots\n",
      "0  1999      1     AMAZONAS  -2.371113 -59.899933          3\n",
      "1  1999      1     MARANHAO  -2.257395 -45.487831         36\n",
      "2  1999      1  MATO GROSSO -12.660633 -55.057989         18\n",
      "3  1999      1         PARA  -2.474820 -48.546967         87\n",
      "4  1999      1     RONDONIA -12.861700 -60.513100          1\n"
     ]
    }
   ],
   "source": [
    "import pandas as pd\n",
    "import matplotlib.pyplot as plt\n",
    "import matplotlib.patches as mpatches\n",
    "import numpy as np\n",
    "import seaborn as sns\n",
    "from scipy import stats as ss\n",
    "\n",
    "#import datasets\n",
    "deforestationArea = pd.read_csv(\"C:\\\\Users\\\\Gabe\\\\Documents\\\\Bellevue University\\\\Data Exploration and Analysis\\\\Final Project\\\\def_area_2004_2019.csv\")\n",
    "weatherPhenomenon = pd.read_csv(\"C:\\\\Users\\\\Gabe\\\\Documents\\\\Bellevue University\\\\Data Exploration and Analysis\\\\Final Project\\\\el_nino_la_nina_1999_2019.csv\")\n",
    "amazonFireOutbreaks = pd.read_csv(\"C:\\\\Users\\\\Gabe\\\\Documents\\\\Bellevue University\\\\Data Exploration and Analysis\\\\Final Project\\inpe_brazilian_amazon_fires_1999_2019.csv\")\n",
    "\n",
    "print(deforestationArea.head())\n",
    "print(weatherPhenomenon.head())\n",
    "print(amazonFireOutbreaks.head())"
   ]
  },
  {
   "cell_type": "code",
   "execution_count": 200,
   "metadata": {},
   "outputs": [
    {
     "name": "stdout",
     "output_type": "stream",
     "text": [
      "State of PA Descriptive Characteristics\n",
      "count      16.000000\n",
      "mean     3923.625000\n",
      "std      1945.802487\n",
      "min      1741.000000\n",
      "25%      2411.250000\n",
      "50%      3389.000000\n",
      "75%      5546.250000\n",
      "max      8870.000000\n",
      "Name: PA, dtype: float64\n",
      "\n",
      "Median: 3389.0\n",
      "Mode: ModeResult(mode=array([1741], dtype=int64), count=array([1]))\n",
      "Spread: 7129\n"
     ]
    },
    {
     "data": {
      "image/png": "[encoded data removed]",
      "text/plain": [
       "<Figure size 432x288 with 1 Axes>"
      ]
     },
     "metadata": {
      "needs_background": "light"
     },
     "output_type": "display_data"
    }
   ],
   "source": [
    "# Descripive Analysis and Histogram\n",
    "deforestationArea['PA'].hist()\n",
    "plt.xlabel(\"State of PA\", fontsize=15)\n",
    "plt.ylabel(\"Frequency\",fontsize=15)\n",
    "\n",
    "print(\"State of PA Descriptive Characteristics\")\n",
    "print(deforestationArea['PA'].describe())\n",
    "print(\"\\n\" + \"Median: \" + str(np.median(deforestationArea['PA'])))\n",
    "print(\"Mode: \" + str(stats.mode(deforestationArea['PA'])))\n",
    "print(\"Spread: \" + str(np.ptp(deforestationArea['PA'])))"
   ]
  },
  {
   "cell_type": "code",
   "execution_count": 201,
   "metadata": {},
   "outputs": [
    {
     "name": "stdout",
     "output_type": "stream",
     "text": [
      "Sum of Deforestation Descriptive Characteristics\n",
      "count       16.000000\n",
      "mean     10020.937500\n",
      "std       6112.467134\n",
      "min       4571.000000\n",
      "25%       6365.250000\n",
      "50%       7500.000000\n",
      "75%      11966.000000\n",
      "max      27772.000000\n",
      "Name: AMZ LEGAL, dtype: float64\n",
      "\n",
      "Median: 7500.0\n",
      "Mode: ModeResult(mode=array([4571], dtype=int64), count=array([1]))\n",
      "Spread: 23201\n"
     ]
    },
    {
     "data": {
      "image/png": "[encoded data removed]",
      "text/plain": [
       "<Figure size 432x288 with 1 Axes>"
      ]
     },
     "metadata": {
      "needs_background": "light"
     },
     "output_type": "display_data"
    }
   ],
   "source": [
    "# Descripive Analysis and Histogram\n",
    "deforestationArea['AMZ LEGAL'].hist()\n",
    "plt.xlabel(\"Sum of Deforestation\", fontsize=15)\n",
    "plt.ylabel(\"Frequency\",fontsize=15)\n",
    "\n",
    "print(\"Sum of Deforestation Descriptive Characteristics\")\n",
    "print(deforestationArea['AMZ LEGAL'].describe())\n",
    "print(\"\\n\" + \"Median: \" + str(np.median(deforestationArea['AMZ LEGAL'])))\n",
    "print(\"Mode: \" + str(stats.mode(deforestationArea['AMZ LEGAL'])))\n",
    "print(\"Spread: \" + str(np.ptp(deforestationArea['AMZ LEGAL'])))"
   ]
  },
  {
   "cell_type": "code",
   "execution_count": 202,
   "metadata": {
    "scrolled": true
   },
   "outputs": [
    {
     "name": "stdout",
     "output_type": "stream",
     "text": [
      "Fire Spots Descriptive Characteristics\n",
      "count     2104.000000\n",
      "mean      1167.417776\n",
      "std       2959.558714\n",
      "min          1.000000\n",
      "25%         16.000000\n",
      "50%        121.000000\n",
      "75%        755.000000\n",
      "max      37926.000000\n",
      "Name: firespots, dtype: float64\n",
      "\n",
      "Median: 121.0\n",
      "Mode: ModeResult(mode=array([1], dtype=int64), count=array([93]))\n",
      "Spread: 37925\n"
     ]
    },
    {
     "data": {
      "image/png": "[encoded data removed]",
      "text/plain": [
       "<Figure size 432x288 with 1 Axes>"
      ]
     },
     "metadata": {
      "needs_background": "light"
     },
     "output_type": "display_data"
    }
   ],
   "source": [
    "# Descripive Analysis and Histogram\n",
    "amazonFireOutbreaks['firespots'].hist()\n",
    "plt.xlabel(\"Fire Spots\", fontsize=15)\n",
    "plt.ylabel(\"Frequency\",fontsize=15)\n",
    "\n",
    "print(\"Fire Spots Descriptive Characteristics\")\n",
    "print(amazonFireOutbreaks['firespots'].describe())\n",
    "print(\"\\n\" + \"Median: \" + str(np.median(amazonFireOutbreaks['firespots'])))\n",
    "print(\"Mode: \" + str(stats.mode(amazonFireOutbreaks['firespots'])))\n",
    "print(\"Spread: \" + str(np.ptp(amazonFireOutbreaks['firespots'])))"
   ]
  },
  {
   "cell_type": "code",
   "execution_count": 203,
   "metadata": {},
   "outputs": [
    {
     "name": "stdout",
     "output_type": "stream",
     "text": [
      "Latitude of Fire Outbreaks Descriptive Characteristics\n",
      "count    2104.000000\n",
      "mean       -5.439282\n",
      "std         4.852439\n",
      "min       -14.431908\n",
      "25%        -9.946974\n",
      "50%        -5.808292\n",
      "75%        -2.595169\n",
      "max         4.151000\n",
      "Name: latitude, dtype: float64\n",
      "\n",
      "Median: -5.808291666666666\n",
      "Mode: ModeResult(mode=array([-7.632]), count=array([2]))\n",
      "Spread: 18.582908\n"
     ]
    },
    {
     "data": {
      "image/png": "[encoded data removed]",
      "text/plain": [
       "<Figure size 432x288 with 1 Axes>"
      ]
     },
     "metadata": {
      "needs_background": "light"
     },
     "output_type": "display_data"
    }
   ],
   "source": [
    "# Descripive Analysis and Histogram\n",
    "amazonFireOutbreaks['latitude'].hist()\n",
    "plt.xlabel(\"Latitude of Fire Outbreaks\", fontsize=15)\n",
    "plt.ylabel(\"Frequency\",fontsize=15)\n",
    "\n",
    "print(\"Latitude of Fire Outbreaks Descriptive Characteristics\")\n",
    "print(amazonFireOutbreaks['latitude'].describe())\n",
    "print(\"\\n\" + \"Median: \" + str(np.median(amazonFireOutbreaks['latitude'])))\n",
    "print(\"Mode: \" + str(stats.mode(amazonFireOutbreaks['latitude'])))\n",
    "print(\"Spread: \" + str(np.ptp(amazonFireOutbreaks['latitude'])))"
   ]
  },
  {
   "cell_type": "code",
   "execution_count": 204,
   "metadata": {},
   "outputs": [
    {
     "name": "stdout",
     "output_type": "stream",
     "text": [
      "Longitude of Fire Outbreaks Descriptive Characteristics\n",
      "count    2104.000000\n",
      "mean      -56.510314\n",
      "std         7.382619\n",
      "min       -73.085000\n",
      "25%       -62.376004\n",
      "50%       -55.876480\n",
      "75%       -50.396154\n",
      "max       -44.188000\n",
      "Name: longitude, dtype: float64\n",
      "\n",
      "Median: -55.876479764783525\n",
      "Mode: ModeResult(mode=array([-48.649]), count=array([2]))\n",
      "Spread: 28.89699999999999\n"
     ]
    },
    {
     "data": {
      "image/png": "[encoded data removed]",
      "text/plain": [
       "<Figure size 432x288 with 1 Axes>"
      ]
     },
     "metadata": {
      "needs_background": "light"
     },
     "output_type": "display_data"
    }
   ],
   "source": [
    "# Descripive Analysis and Histogram\n",
    "amazonFireOutbreaks['longitude'].hist()\n",
    "plt.xlabel(\"Longitude of Fire Outbreaks\", fontsize=15)\n",
    "plt.ylabel(\"Frequency\",fontsize=15)\n",
    "\n",
    "print(\"Longitude of Fire Outbreaks Descriptive Characteristics\")\n",
    "print(amazonFireOutbreaks['longitude'].describe())\n",
    "print(\"\\n\" + \"Median: \" + str(np.median(amazonFireOutbreaks['longitude'])))\n",
    "print(\"Mode: \" + str(stats.mode(amazonFireOutbreaks['longitude'])))\n",
    "print(\"Spread: \" + str(np.ptp(amazonFireOutbreaks['longitude'])))"
   ]
  },
  {
   "cell_type": "code",
   "execution_count": 205,
   "metadata": {
    "scrolled": true
   },
   "outputs": [
    {
     "name": "stdout",
     "output_type": "stream",
     "text": [
      "         item_counts     item  probability\n",
      "La Nina            9  La Nina       0.5625\n",
      "El Nino            7  El Nino       0.4375\n"
     ]
    },
    {
     "data": {
      "image/png": "[encoded data removed]",
      "text/plain": [
       "<Figure size 432x288 with 1 Axes>"
      ]
     },
     "metadata": {
      "needs_background": "light"
     },
     "output_type": "display_data"
    }
   ],
   "source": [
    "# Probability Mass Function\n",
    "df1=weatherPhenomenon['phenomenon'].value_counts()\n",
    "sum1=len(weatherPhenomenon)\n",
    "df2=pd.DataFrame(df1)\n",
    "df2=df2.rename(columns={df2.columns[0]:'item_counts'})\n",
    "df2['item']=df2.index\n",
    "df2['probability']=df2['item_counts']/sum1\n",
    "print(df2)\n",
    "plt.bar(df2['item'],df2['probability'])\n",
    "plt.show()"
   ]
  },
  {
   "cell_type": "code",
   "execution_count": 206,
   "metadata": {},
   "outputs": [
    {
     "name": "stdout",
     "output_type": "stream",
     "text": [
      "             item_counts         item  probability\n",
      "Weak                   9         Weak       0.5625\n",
      "Strong                 3       Strong       0.1875\n",
      "Moderate               3     Moderate       0.1875\n",
      "Very Strong            1  Very Strong       0.0625\n"
     ]
    },
    {
     "data": {
      "image/png": "[encoded data removed]",
      "text/plain": [
       "<Figure size 432x288 with 1 Axes>"
      ]
     },
     "metadata": {
      "needs_background": "light"
     },
     "output_type": "display_data"
    }
   ],
   "source": [
    "# Probability Mass Function\n",
    "df3=weatherPhenomenon['severity'].value_counts()\n",
    "sum1=len(weatherPhenomenon)\n",
    "df4=pd.DataFrame(df3)\n",
    "df4=df4.rename(columns={df4.columns[0]:'item_counts'})\n",
    "df4['item']=df4.index\n",
    "df4['probability']=df4['item_counts']/sum1\n",
    "print(df4)\n",
    "plt.bar(df4['item'],df4['probability'])\n",
    "plt.show()"
   ]
  },
  {
   "cell_type": "code",
   "execution_count": 208,
   "metadata": {
    "scrolled": true
   },
   "outputs": [
    {
     "name": "stdout",
     "output_type": "stream",
     "text": [
      "    item_counts  item  probability\n",
      "9           189     9      11.8125\n",
      "10          189    10      11.8125\n",
      "11          188    11      11.7500\n",
      "8           188     8      11.7500\n",
      "7           183     7      11.4375\n",
      "12          181    12      11.3125\n",
      "6           177     6      11.0625\n",
      "5           169     5      10.5625\n",
      "1           169     1      10.5625\n",
      "4           160     4      10.0000\n",
      "2           158     2       9.8750\n",
      "3           153     3       9.5625\n"
     ]
    }
   ],
   "source": [
    "# Probability Mass Function\n",
    "df5=amazonFireOutbreaks['month'].value_counts()\n",
    "sum1=len(weatherPhenomenon)\n",
    "df6=pd.DataFrame(df5)\n",
    "df6=df6.rename(columns={df6.columns[0]:'item_counts'})\n",
    "df6['item']=df6.index\n",
    "df6['probability']=df6['item_counts']/sum1\n",
    "print(df6)\n"
   ]
  },
  {
   "cell_type": "code",
   "execution_count": 209,
   "metadata": {},
   "outputs": [
    {
     "data": {
      "image/png": "[encoded data removed]",
      "text/plain": [
       "<Figure size 432x288 with 1 Axes>"
      ]
     },
     "metadata": {
      "needs_background": "light"
     },
     "output_type": "display_data"
    }
   ],
   "source": [
    "# Cumulative Mass Function\n",
    "def ecdf(data):\n",
    "    \"\"\"Computer ECDF\"\"\"\n",
    "    x = np.sort(data)\n",
    "    n = x.size\n",
    "    y = np.arange(1, n+1) / n\n",
    "    return(x,y)\n",
    "\n",
    "#x,y = ecdf(amazonFireOutbreaks['month'])\n",
    "a,b = ecdf(weatherPhenomenon['severity'])\n",
    "#_ = plt.plot(x,y)\n",
    "_ = plt.plot(a,b)\n",
    "_ = plt.xlabel('Severity of Weather Phenomenon')\n",
    "_ = plt.ylabel('ECDF')\n",
    "plt.show()"
   ]
  },
  {
   "cell_type": "code",
   "execution_count": 210,
   "metadata": {},
   "outputs": [
    {
     "data": {
      "image/png": "[encoded data removed]",
      "text/plain": [
       "<Figure size 432x288 with 1 Axes>"
      ]
     },
     "metadata": {
      "needs_background": "light"
     },
     "output_type": "display_data"
    }
   ],
   "source": [
    "# Exponential Distribution\n",
    "def successive_poisson(tau1, size=1):\n",
    "    t1 = np.random.exponential(tau1, size=size)\n",
    "    return t1\n",
    "\n",
    "\n",
    "# (mean of firespots, 10,000,000 samples)    \n",
    "waiting_times = successive_poisson(1167, size=10000000)\n",
    "# Make the histogram\n",
    "_ = plt.hist(waiting_times, bins=100, histtype='step',\n",
    "             density=True)\n",
    "\n",
    "# Label axes\n",
    "_ = plt.xlabel('total waiting time (fires)')\n",
    "_ = plt.ylabel('PDF')\n",
    "\n",
    "# Show the plot\n",
    "plt.show()"
   ]
  },
  {
   "cell_type": "code",
   "execution_count": 338,
   "metadata": {},
   "outputs": [
    {
     "name": "stdout",
     "output_type": "stream",
     "text": [
      "    start year  end year phenomenon  severity\n",
      "7         2000      2001    La Nina      Weak\n",
      "8         2005      2006    La Nina      Weak\n",
      "9         2008      2009    La Nina      Weak\n",
      "10        2016      2017    La Nina      Weak\n",
      "11        2017      2018    La Nina      Weak\n",
      "12        2011      2012    La Nina  Moderate\n",
      "13        1999      2000    La Nina    Strong\n",
      "14        2007      2008    La Nina    Strong\n",
      "15        2010      2011    La Nina    Strong\n",
      "[[ 3.32737714e+01 -1.21505716e+02]\n",
      " [-1.21505716e+02  8.10422536e+06]]\n",
      "[[ 1.         -0.00739929]\n",
      " [-0.00739929  1.        ]]\n",
      "[[ 3.34075319e+01 -4.43724198e+01]\n",
      " [-4.43724198e+01  4.00701066e+06]]\n",
      "[[ 1.         -0.00383514]\n",
      " [-0.00383514  1.        ]]\n"
     ]
    },
    {
     "data": {
      "image/png": "[encoded data removed]",
      "text/plain": [
       "<Figure size 432x288 with 1 Axes>"
      ]
     },
     "metadata": {
      "needs_background": "light"
     },
     "output_type": "display_data"
    }
   ],
   "source": [
    "laNinaYear = weatherPhenomenon['phenomenon']==\"La Nina\"\n",
    "laNina = weatherPhenomenon[elNinoYear]\n",
    "print(laNina)\n",
    "\n",
    "# Fire outbreaks the year El Nino started\n",
    "fireLaNinaStart = amazonFireOutbreaks.query('year == 2000 or year == 2005 or year == 2008 or year == 2016 or year == 2017 or year == 2011 or year == 1999 or year == 2007 or year == 2010')\n",
    "\n",
    "# Fire outbreaks the year El Nino ended\n",
    "fireLaNinaEnd = amazonFireOutbreaks.query('year == 2001 or year == 2006 or year == 2009 or year == 2017 or year == 2018 or year == 2012 or year == 2000 or year == 2008 or year == 2011')\n",
    "#sumFirebyYear = fireElNino.groupby('year')['firespots'].sum()\n",
    "\n",
    "print(np.cov(fireLaNinaStart['year'],fireLaNinaStart['firespots']))\n",
    "print(np.corrcoef(fireLaNinaStart['year'],fireLaNinaStart['firespots']))\n",
    "\n",
    "\n",
    "print(np.cov(fireLaNinaEnd['year'],fireLaNinaEnd['firespots']))\n",
    "print(np.corrcoef(fireLaNinaEnd['year'],fireLaNinaEnd['firespots']))\n",
    "\n",
    "# Scatter Plot\n",
    "startYear= plt.plot(fireLaNinaStart['year'],fireLaNinaStart['firespots'],'o', c = 'red')\n",
    "red_patch = mpatches.Patch(color='red', label = 'Start Year')\n",
    "endYear = plt.plot(fireLaNinaEnd['year'],fireLaNinaEnd['firespots'],'o', c = 'yellow')\n",
    "yellow_patch = mpatches.Patch(color='yellow', label = 'End Year')\n",
    "plt.xticks(np.arange(2001,2020,2))\n",
    "plt.legend(handles=[red_patch,yellow_patch])\n",
    "plt.title(\"La Nina Fire Outbreaks\")\n",
    "plt.xlabel(\"Years\")\n",
    "plt.ylabel(\"Fire Outbreaks\")\n",
    "plt.show()\n"
   ]
  },
  {
   "cell_type": "code",
   "execution_count": 339,
   "metadata": {},
   "outputs": [
    {
     "name": "stdout",
     "output_type": "stream",
     "text": [
      "t = 0.3333437465572071\n",
      "p = 0.740707199845082\n"
     ]
    }
   ],
   "source": [
    "#Difference of Means (t-Statistic)\n",
    "N = 20\n",
    "\n",
    "var_StartYear = fireLaNinaStart['firespots'].var(ddof=1)\n",
    "var_EndYear = fireLaNinaEnd['firespots'].var(ddof=1)\n",
    "\n",
    "s = np.sqrt((var_StartYear + var_EndYear)/2)\n",
    "\n",
    "t = (fireLaNinaStart['firespots'].mean()-fireLaNinaEnd['firespots'].mean())/(s*np.sqrt(2/N))\n",
    "\n",
    "df = 2*N - 2\n",
    "\n",
    "p = 1 - ss.t.cdf(t,df=df)\n",
    "\n",
    "print(\"t = \" + str(t))\n",
    "print(\"p = \" + str(2*p))\n",
    "\n"
   ]
  },
  {
   "cell_type": "code",
   "execution_count": 340,
   "metadata": {},
   "outputs": [
    {
     "name": "stdout",
     "output_type": "stream",
     "text": [
      "coefficient of determination: 5.474946531924818e-05\n",
      "intercept: 8459.55854497015\n",
      "slope: [-3.65169655]\n",
      "predicted response:\n",
      "[1159.8171396  1159.8171396  1159.8171396  1159.8171396  1159.8171396\n",
      " 1159.8171396  1159.8171396  1159.8171396  1159.8171396  1159.8171396\n",
      " 1159.8171396  1159.8171396  1159.8171396  1159.8171396  1159.8171396\n",
      " 1159.8171396  1159.8171396  1159.8171396  1159.8171396  1159.8171396\n",
      " 1159.8171396  1159.8171396  1159.8171396  1159.8171396  1159.8171396\n",
      " 1159.8171396  1159.8171396  1159.8171396  1159.8171396  1159.8171396\n",
      " 1159.8171396  1159.8171396  1159.8171396  1159.8171396  1159.8171396\n",
      " 1159.8171396  1159.8171396  1159.8171396  1159.8171396  1159.8171396\n",
      " 1159.8171396  1159.8171396  1159.8171396  1159.8171396  1159.8171396\n",
      " 1159.8171396  1159.8171396  1159.8171396  1159.8171396  1159.8171396\n",
      " 1159.8171396  1159.8171396  1159.8171396  1159.8171396  1159.8171396\n",
      " 1159.8171396  1159.8171396  1159.8171396  1159.8171396  1159.8171396\n",
      " 1159.8171396  1159.8171396  1159.8171396  1159.8171396  1159.8171396\n",
      " 1159.8171396  1159.8171396  1159.8171396  1159.8171396  1159.8171396\n",
      " 1159.8171396  1159.8171396  1159.8171396  1159.8171396  1159.8171396\n",
      " 1159.8171396  1159.8171396  1159.8171396  1159.8171396  1159.8171396\n",
      " 1159.8171396  1159.8171396  1159.8171396  1159.8171396  1159.8171396\n",
      " 1156.16544305 1156.16544305 1156.16544305 1156.16544305 1156.16544305\n",
      " 1156.16544305 1156.16544305 1156.16544305 1156.16544305 1156.16544305\n",
      " 1156.16544305 1156.16544305 1156.16544305 1156.16544305 1156.16544305\n",
      " 1156.16544305 1156.16544305 1156.16544305 1156.16544305 1156.16544305\n",
      " 1156.16544305 1156.16544305 1156.16544305 1156.16544305 1156.16544305\n",
      " 1156.16544305 1156.16544305 1156.16544305 1156.16544305 1156.16544305\n",
      " 1156.16544305 1156.16544305 1156.16544305 1156.16544305 1156.16544305\n",
      " 1156.16544305 1156.16544305 1156.16544305 1156.16544305 1156.16544305\n",
      " 1156.16544305 1156.16544305 1156.16544305 1156.16544305 1156.16544305\n",
      " 1156.16544305 1156.16544305 1156.16544305 1156.16544305 1156.16544305\n",
      " 1156.16544305 1156.16544305 1156.16544305 1156.16544305 1156.16544305\n",
      " 1156.16544305 1156.16544305 1156.16544305 1156.16544305 1156.16544305\n",
      " 1156.16544305 1156.16544305 1156.16544305 1156.16544305 1156.16544305\n",
      " 1156.16544305 1156.16544305 1156.16544305 1156.16544305 1156.16544305\n",
      " 1156.16544305 1156.16544305 1156.16544305 1156.16544305 1156.16544305\n",
      " 1156.16544305 1156.16544305 1156.16544305 1156.16544305 1156.16544305\n",
      " 1156.16544305 1156.16544305 1156.16544305 1156.16544305 1156.16544305\n",
      " 1156.16544305 1156.16544305 1137.9069603  1137.9069603  1137.9069603\n",
      " 1137.9069603  1137.9069603  1137.9069603  1137.9069603  1137.9069603\n",
      " 1137.9069603  1137.9069603  1137.9069603  1137.9069603  1137.9069603\n",
      " 1137.9069603  1137.9069603  1137.9069603  1137.9069603  1137.9069603\n",
      " 1137.9069603  1137.9069603  1137.9069603  1137.9069603  1137.9069603\n",
      " 1137.9069603  1137.9069603  1137.9069603  1137.9069603  1137.9069603\n",
      " 1137.9069603  1137.9069603  1137.9069603  1137.9069603  1137.9069603\n",
      " 1137.9069603  1137.9069603  1137.9069603  1137.9069603  1137.9069603\n",
      " 1137.9069603  1137.9069603  1137.9069603  1137.9069603  1137.9069603\n",
      " 1137.9069603  1137.9069603  1137.9069603  1137.9069603  1137.9069603\n",
      " 1137.9069603  1137.9069603  1137.9069603  1137.9069603  1137.9069603\n",
      " 1137.9069603  1137.9069603  1137.9069603  1137.9069603  1137.9069603\n",
      " 1137.9069603  1137.9069603  1137.9069603  1137.9069603  1137.9069603\n",
      " 1137.9069603  1137.9069603  1137.9069603  1137.9069603  1137.9069603\n",
      " 1137.9069603  1137.9069603  1137.9069603  1137.9069603  1137.9069603\n",
      " 1137.9069603  1137.9069603  1137.9069603  1137.9069603  1137.9069603\n",
      " 1137.9069603  1137.9069603  1137.9069603  1137.9069603  1137.9069603\n",
      " 1137.9069603  1137.9069603  1137.9069603  1137.9069603  1137.9069603\n",
      " 1137.9069603  1137.9069603  1137.9069603  1137.9069603  1137.9069603\n",
      " 1137.9069603  1137.9069603  1137.9069603  1137.9069603  1137.9069603\n",
      " 1137.9069603  1137.9069603  1137.9069603  1137.9069603  1137.9069603\n",
      " 1130.6035672  1130.6035672  1130.6035672  1130.6035672  1130.6035672\n",
      " 1130.6035672  1130.6035672  1130.6035672  1130.6035672  1130.6035672\n",
      " 1130.6035672  1130.6035672  1130.6035672  1130.6035672  1130.6035672\n",
      " 1130.6035672  1130.6035672  1130.6035672  1130.6035672  1130.6035672\n",
      " 1130.6035672  1130.6035672  1130.6035672  1130.6035672  1130.6035672\n",
      " 1130.6035672  1130.6035672  1130.6035672  1130.6035672  1130.6035672\n",
      " 1130.6035672  1130.6035672  1130.6035672  1130.6035672  1130.6035672\n",
      " 1130.6035672  1130.6035672  1130.6035672  1130.6035672  1130.6035672\n",
      " 1130.6035672  1130.6035672  1130.6035672  1130.6035672  1130.6035672\n",
      " 1130.6035672  1130.6035672  1130.6035672  1130.6035672  1130.6035672\n",
      " 1130.6035672  1130.6035672  1130.6035672  1130.6035672  1130.6035672\n",
      " 1130.6035672  1130.6035672  1130.6035672  1130.6035672  1130.6035672\n",
      " 1130.6035672  1130.6035672  1130.6035672  1130.6035672  1130.6035672\n",
      " 1130.6035672  1130.6035672  1130.6035672  1130.6035672  1130.6035672\n",
      " 1130.6035672  1130.6035672  1130.6035672  1130.6035672  1130.6035672\n",
      " 1130.6035672  1130.6035672  1130.6035672  1130.6035672  1130.6035672\n",
      " 1130.6035672  1130.6035672  1130.6035672  1130.6035672  1130.6035672\n",
      " 1130.6035672  1130.6035672  1130.6035672  1130.6035672  1130.6035672\n",
      " 1130.6035672  1130.6035672  1130.6035672  1130.6035672  1130.6035672\n",
      " 1130.6035672  1130.6035672  1130.6035672  1130.6035672  1130.6035672\n",
      " 1130.6035672  1130.6035672  1130.6035672  1130.6035672  1126.95187064\n",
      " 1126.95187064 1126.95187064 1126.95187064 1126.95187064 1126.95187064\n",
      " 1126.95187064 1126.95187064 1126.95187064 1126.95187064 1126.95187064\n",
      " 1126.95187064 1126.95187064 1126.95187064 1126.95187064 1126.95187064\n",
      " 1126.95187064 1126.95187064 1126.95187064 1126.95187064 1126.95187064\n",
      " 1126.95187064 1126.95187064 1126.95187064 1126.95187064 1126.95187064\n",
      " 1126.95187064 1126.95187064 1126.95187064 1126.95187064 1126.95187064\n",
      " 1126.95187064 1126.95187064 1126.95187064 1126.95187064 1126.95187064\n",
      " 1126.95187064 1126.95187064 1126.95187064 1126.95187064 1126.95187064\n",
      " 1126.95187064 1126.95187064 1126.95187064 1126.95187064 1126.95187064\n",
      " 1126.95187064 1126.95187064 1126.95187064 1126.95187064 1126.95187064\n",
      " 1126.95187064 1126.95187064 1126.95187064 1126.95187064 1126.95187064\n",
      " 1126.95187064 1126.95187064 1126.95187064 1126.95187064 1126.95187064\n",
      " 1126.95187064 1126.95187064 1126.95187064 1126.95187064 1126.95187064\n",
      " 1126.95187064 1126.95187064 1126.95187064 1126.95187064 1126.95187064\n",
      " 1126.95187064 1126.95187064 1126.95187064 1126.95187064 1126.95187064\n",
      " 1126.95187064 1126.95187064 1126.95187064 1126.95187064 1126.95187064\n",
      " 1126.95187064 1126.95187064 1126.95187064 1126.95187064 1126.95187064\n",
      " 1126.95187064 1126.95187064 1126.95187064 1126.95187064 1126.95187064\n",
      " 1126.95187064 1126.95187064 1126.95187064 1126.95187064 1126.95187064\n",
      " 1126.95187064 1126.95187064 1126.95187064 1126.95187064 1126.95187064\n",
      " 1119.64847754 1119.64847754 1119.64847754 1119.64847754 1119.64847754\n",
      " 1119.64847754 1119.64847754 1119.64847754 1119.64847754 1119.64847754\n",
      " 1119.64847754 1119.64847754 1119.64847754 1119.64847754 1119.64847754\n",
      " 1119.64847754 1119.64847754 1119.64847754 1119.64847754 1119.64847754\n",
      " 1119.64847754 1119.64847754 1119.64847754 1119.64847754 1119.64847754\n",
      " 1119.64847754 1119.64847754 1119.64847754 1119.64847754 1119.64847754\n",
      " 1119.64847754 1119.64847754 1119.64847754 1119.64847754 1119.64847754\n",
      " 1119.64847754 1119.64847754 1119.64847754 1119.64847754 1119.64847754\n",
      " 1119.64847754 1119.64847754 1119.64847754 1119.64847754 1119.64847754\n",
      " 1119.64847754 1119.64847754 1119.64847754 1119.64847754 1119.64847754\n",
      " 1119.64847754 1119.64847754 1119.64847754 1119.64847754 1119.64847754\n",
      " 1119.64847754 1119.64847754 1119.64847754 1119.64847754 1119.64847754\n",
      " 1119.64847754 1119.64847754 1119.64847754 1119.64847754 1119.64847754\n",
      " 1119.64847754 1119.64847754 1119.64847754 1119.64847754 1119.64847754\n",
      " 1119.64847754 1119.64847754 1119.64847754 1119.64847754 1119.64847754\n",
      " 1119.64847754 1119.64847754 1119.64847754 1119.64847754 1119.64847754\n",
      " 1119.64847754 1119.64847754 1119.64847754 1119.64847754 1119.64847754\n",
      " 1119.64847754 1119.64847754 1119.64847754 1119.64847754 1119.64847754\n",
      " 1119.64847754 1119.64847754 1119.64847754 1119.64847754 1119.64847754\n",
      " 1119.64847754 1119.64847754 1119.64847754 1119.64847754 1119.64847754\n",
      " 1119.64847754 1119.64847754 1119.64847754 1115.99678099 1115.99678099\n",
      " 1115.99678099 1115.99678099 1115.99678099 1115.99678099 1115.99678099\n",
      " 1115.99678099 1115.99678099 1115.99678099 1115.99678099 1115.99678099\n",
      " 1115.99678099 1115.99678099 1115.99678099 1115.99678099 1115.99678099\n",
      " 1115.99678099 1115.99678099 1115.99678099 1115.99678099 1115.99678099\n",
      " 1115.99678099 1115.99678099 1115.99678099 1115.99678099 1115.99678099\n",
      " 1115.99678099 1115.99678099 1115.99678099 1115.99678099 1115.99678099\n",
      " 1115.99678099 1115.99678099 1115.99678099 1115.99678099 1115.99678099\n",
      " 1115.99678099 1115.99678099 1115.99678099 1115.99678099 1115.99678099\n",
      " 1115.99678099 1115.99678099 1115.99678099 1115.99678099 1115.99678099\n",
      " 1115.99678099 1115.99678099 1115.99678099 1115.99678099 1115.99678099\n",
      " 1115.99678099 1115.99678099 1115.99678099 1115.99678099 1115.99678099\n",
      " 1115.99678099 1115.99678099 1115.99678099 1115.99678099 1115.99678099\n",
      " 1115.99678099 1115.99678099 1115.99678099 1115.99678099 1115.99678099\n",
      " 1115.99678099 1115.99678099 1115.99678099 1115.99678099 1115.99678099\n",
      " 1115.99678099 1115.99678099 1115.99678099 1115.99678099 1115.99678099\n",
      " 1115.99678099 1115.99678099 1115.99678099 1115.99678099 1115.99678099\n",
      " 1115.99678099 1115.99678099 1115.99678099 1115.99678099 1115.99678099\n",
      " 1115.99678099 1115.99678099 1115.99678099 1115.99678099 1115.99678099\n",
      " 1115.99678099 1115.99678099 1115.99678099 1115.99678099 1115.99678099\n",
      " 1115.99678099 1115.99678099 1115.99678099 1115.99678099 1097.73829824\n",
      " 1097.73829824 1097.73829824 1097.73829824 1097.73829824 1097.73829824\n",
      " 1097.73829824 1097.73829824 1097.73829824 1097.73829824 1097.73829824\n",
      " 1097.73829824 1097.73829824 1097.73829824 1097.73829824 1097.73829824\n",
      " 1097.73829824 1097.73829824 1097.73829824 1097.73829824 1097.73829824\n",
      " 1097.73829824 1097.73829824 1097.73829824 1097.73829824 1097.73829824\n",
      " 1097.73829824 1097.73829824 1097.73829824 1097.73829824 1097.73829824\n",
      " 1097.73829824 1097.73829824 1097.73829824 1097.73829824 1097.73829824\n",
      " 1097.73829824 1097.73829824 1097.73829824 1097.73829824 1097.73829824\n",
      " 1097.73829824 1097.73829824 1097.73829824 1097.73829824 1097.73829824\n",
      " 1097.73829824 1097.73829824 1097.73829824 1097.73829824 1097.73829824\n",
      " 1097.73829824 1097.73829824 1097.73829824 1097.73829824 1097.73829824\n",
      " 1097.73829824 1097.73829824 1097.73829824 1097.73829824 1097.73829824\n",
      " 1097.73829824 1097.73829824 1097.73829824 1097.73829824 1097.73829824\n",
      " 1097.73829824 1097.73829824 1097.73829824 1097.73829824 1097.73829824\n",
      " 1097.73829824 1097.73829824 1097.73829824 1097.73829824 1097.73829824\n",
      " 1097.73829824 1097.73829824 1097.73829824 1097.73829824 1097.73829824\n",
      " 1097.73829824 1097.73829824 1097.73829824 1097.73829824 1097.73829824\n",
      " 1097.73829824 1097.73829824 1097.73829824 1097.73829824 1097.73829824\n",
      " 1097.73829824 1097.73829824 1097.73829824 1097.73829824 1097.73829824\n",
      " 1097.73829824 1097.73829824 1097.73829824 1097.73829824 1097.73829824\n",
      " 1097.73829824 1097.73829824 1097.73829824 1097.73829824 1094.08660169\n",
      " 1094.08660169 1094.08660169 1094.08660169 1094.08660169 1094.08660169\n",
      " 1094.08660169 1094.08660169 1094.08660169 1094.08660169 1094.08660169\n",
      " 1094.08660169 1094.08660169 1094.08660169 1094.08660169 1094.08660169\n",
      " 1094.08660169 1094.08660169 1094.08660169 1094.08660169 1094.08660169\n",
      " 1094.08660169 1094.08660169 1094.08660169 1094.08660169 1094.08660169\n",
      " 1094.08660169 1094.08660169 1094.08660169 1094.08660169 1094.08660169\n",
      " 1094.08660169 1094.08660169 1094.08660169 1094.08660169 1094.08660169\n",
      " 1094.08660169 1094.08660169 1094.08660169 1094.08660169 1094.08660169\n",
      " 1094.08660169 1094.08660169 1094.08660169 1094.08660169 1094.08660169\n",
      " 1094.08660169 1094.08660169 1094.08660169 1094.08660169 1094.08660169\n",
      " 1094.08660169 1094.08660169 1094.08660169 1094.08660169 1094.08660169\n",
      " 1094.08660169 1094.08660169 1094.08660169 1094.08660169 1094.08660169\n",
      " 1094.08660169 1094.08660169 1094.08660169 1094.08660169 1094.08660169\n",
      " 1094.08660169 1094.08660169 1094.08660169 1094.08660169 1094.08660169\n",
      " 1094.08660169 1094.08660169 1094.08660169 1094.08660169 1094.08660169\n",
      " 1094.08660169 1094.08660169 1094.08660169 1094.08660169 1094.08660169\n",
      " 1094.08660169 1094.08660169 1094.08660169 1094.08660169 1094.08660169\n",
      " 1094.08660169 1094.08660169 1094.08660169 1094.08660169 1094.08660169\n",
      " 1094.08660169 1094.08660169 1094.08660169 1094.08660169 1094.08660169\n",
      " 1094.08660169 1094.08660169 1094.08660169 1094.08660169 1094.08660169\n",
      " 1094.08660169]\n",
      "[[2020]\n",
      " [2021]\n",
      " [2022]\n",
      " [2023]\n",
      " [2024]\n",
      " [2025]]\n",
      "[1083.13151203 1079.47981548 1075.82811893 1072.17642238 1068.52472583\n",
      " 1064.87302928]\n"
     ]
    }
   ],
   "source": [
    "# Linear Regression Analysis\n",
    "from sklearn.linear_model import LinearRegression\n",
    "y_array = np.array(fireLaNinaStart['firespots'])\n",
    "x_array = np.array(fireLaNinaStart['year']).reshape((-1,1))\n",
    "model = LinearRegression().fit(x_array,y_array)\n",
    "r_sq = model.score(x_array, y_array)\n",
    "print('coefficient of determination:', r_sq)\n",
    "print('intercept:', model.intercept_)\n",
    "print('slope:', model.coef_)\n",
    "y_pred = model.predict(x_array)\n",
    "print('predicted response:', y_pred, sep='\\n')\n",
    "\n",
    "# Prediction of 2020-2025\n",
    "x_new = np.arange(2020,2026).reshape((-1, 1))\n",
    "print(x_new)\n",
    "y_new = model.predict(x_new)\n",
    "print(y_new)"
   ]
  }
 ],
 "metadata": {
  "kernelspec": {
   "display_name": "Python 3",
   "language": "python",
   "name": "python3"
  },
  "language_info": {
   "codemirror_mode": {
    "name": "ipython",
    "version": 3
   },
   "file_extension": ".py",
   "mimetype": "text/x-python",
   "name": "python",
   "nbconvert_exporter": "python",
   "pygments_lexer": "ipython3",
   "version": "3.7.4"
  }
 },
 "nbformat": 4,
 "nbformat_minor": 2
}
